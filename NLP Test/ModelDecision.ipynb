{
 "cells": [
  {
   "cell_type": "code",
   "execution_count": 65,
   "metadata": {},
   "outputs": [],
   "source": [
    "# Importing libraries #\n",
    "import re, string\n",
    "import nltk\n",
    "import pickle\n",
    "import numpy as np\n",
    "import pandas as pd\n",
    "import lightgbm as lgb\n",
    "import seaborn as sn\n",
    "import language_tool_python\n",
    "import matplotlib.pyplot as plt\n",
    "from nltk.corpus import stopwords, wordnet\n",
    "from nltk.tokenize import WordPunctTokenizer\n",
    "from nltk.stem import WordNetLemmatizer, SnowballStemmer\n",
    "from textacy import preprocessing\n",
    "from sklearn.model_selection import train_test_split\n",
    "from sklearn.feature_extraction.text import TfidfVectorizer, CountVectorizer\n",
    "import sklearn.metrics as metrics\n",
    "from sklearn.pipeline import Pipeline\n",
    "\n",
    "tool = language_tool_python.LanguageTool('es-US')\n",
    "stemmer = SnowballStemmer('spanish')"
   ]
  },
  {
   "cell_type": "code",
   "execution_count": 2,
   "metadata": {},
   "outputs": [
    {
     "name": "stdout",
     "output_type": "stream",
     "text": [
      "imitenl dich are financiacion esquem pag servici ambiental anterior signif hech predi restitu repos inform corporal localiz rond hidric rio adem are ocup establec limit dc humedal rio leon segun municipi dc vigor defin are ocup terren preservacion produccion acb\n"
     ]
    }
   ],
   "source": [
    "# Deifining key functions #\n",
    "\n",
    "# Preprocessing paragraphs #\n",
    "\n",
    "def process_paragraph(paragraph):\n",
    "    \"\"\"\n",
    "    This function removes non representative string characters\n",
    "    input: paragraph extracted from plain text file\n",
    "    output: paragraph withoput stopwords and punctuation\n",
    "    \"\"\"\n",
    "\n",
    "    # Function for data cleaning #\n",
    "    def text_cleaning(text_to_clean):\n",
    "        \"\"\"\n",
    "        This function cleans the text data\n",
    "         \"\"\"\n",
    "        text_to_clean = preprocessing.remove.punctuation(text_to_clean)\n",
    "        text_to_clean = preprocessing.remove.accents(text_to_clean)\n",
    "        text_to_clean = preprocessing.normalize.whitespace(text_to_clean)\n",
    "        text_to_clean = preprocessing.normalize.unicode(text_to_clean)\n",
    "        return text_to_clean\n",
    "    \n",
    "    # Function for removing stopwords #\n",
    "    def stopword(string):\n",
    "        a = [i for i in string.split() if i not in stopwords.words('spanish')]\n",
    "        return ' '.join(a)\n",
    "\n",
    "    # Stemming the paragraph #\n",
    "    def stemming(text_to_process):\n",
    "        return ' '.join([ stemmer.stem(i) for i in text_to_process.split() ])\n",
    "\n",
    "    # Correcting the input pragraph #\n",
    "    new_paragraph =  stemming(stopword(text_cleaning(tool.correct(paragraph))))\n",
    "\n",
    "    return new_paragraph\n",
    "\n",
    "# Testing of functions #\n",
    "test_paragraph = 'imienlo de dichas areas y la financiacion de los csquemas de pago por servicios ambientales _ lo anterior significa que el hecho que el predio que se restituye el reposo} cumo lo informo corpouraba, se localiza en la ronda hidrica del rio lcon. adcmas que el area que estc ocupa esta establecido como limite dc los humcdales del rio leon y quc segun el pot del municipio dc chigorodo define el area que ocupa este terreno como de preservacion y prolcccion amb'\n",
    "print(process_paragraph(test_paragraph))"
   ]
  },
  {
   "cell_type": "code",
   "execution_count": 3,
   "metadata": {},
   "outputs": [
    {
     "data": {
      "text/html": [
       "<div>\n",
       "<style scoped>\n",
       "    .dataframe tbody tr th:only-of-type {\n",
       "        vertical-align: middle;\n",
       "    }\n",
       "\n",
       "    .dataframe tbody tr th {\n",
       "        vertical-align: top;\n",
       "    }\n",
       "\n",
       "    .dataframe thead th {\n",
       "        text-align: right;\n",
       "    }\n",
       "</style>\n",
       "<table border=\"1\" class=\"dataframe\">\n",
       "  <thead>\n",
       "    <tr style=\"text-align: right;\">\n",
       "      <th></th>\n",
       "      <th>Sentencia</th>\n",
       "      <th>label</th>\n",
       "      <th>Sentencia_cleaned</th>\n",
       "    </tr>\n",
       "  </thead>\n",
       "  <tbody>\n",
       "    <tr>\n",
       "      <th>0</th>\n",
       "      <td>imienlo de dichas areas y la financiacion de l...</td>\n",
       "      <td>1</td>\n",
       "      <td>imitenl dich are financiacion esquem pag servi...</td>\n",
       "    </tr>\n",
       "    <tr>\n",
       "      <th>1</th>\n",
       "      <td>abrir un nuevo folio de matricula inmobiliaria...</td>\n",
       "      <td>0</td>\n",
       "      <td>abrir nuev foli matricul inmobiliari vei j dej...</td>\n",
       "    </tr>\n",
       "    <tr>\n",
       "      <th>2</th>\n",
       "      <td>al predio restituido se debera brindar segurid...</td>\n",
       "      <td>0</td>\n",
       "      <td>al predi restitu deber brind segur presenci pe...</td>\n",
       "    </tr>\n",
       "    <tr>\n",
       "      <th>3</th>\n",
       "      <td>mobiliaria: la esterlina (008-11695): las dali...</td>\n",
       "      <td>0</td>\n",
       "      <td>mobiliari esterlin 008 11695 dali 2 008 11172 ...</td>\n",
       "    </tr>\n",
       "    <tr>\n",
       "      <th>4</th>\n",
       "      <td>folio 15 reverso; cuaderno no. 001_ tribunal s...</td>\n",
       "      <td>0</td>\n",
       "      <td>foli 15 revers cuadern 001 tribunal superior d...</td>\n",
       "    </tr>\n",
       "  </tbody>\n",
       "</table>\n",
       "</div>"
      ],
      "text/plain": [
       "                                           Sentencia  label  \\\n",
       "0  imienlo de dichas areas y la financiacion de l...      1   \n",
       "1  abrir un nuevo folio de matricula inmobiliaria...      0   \n",
       "2  al predio restituido se debera brindar segurid...      0   \n",
       "3  mobiliaria: la esterlina (008-11695): las dali...      0   \n",
       "4  folio 15 reverso; cuaderno no. 001_ tribunal s...      0   \n",
       "\n",
       "                                   Sentencia_cleaned  \n",
       "0  imitenl dich are financiacion esquem pag servi...  \n",
       "1  abrir nuev foli matricul inmobiliari vei j dej...  \n",
       "2  al predi restitu deber brind segur presenci pe...  \n",
       "3  mobiliari esterlin 008 11695 dali 2 008 11172 ...  \n",
       "4  foli 15 revers cuadern 001 tribunal superior d...  "
      ]
     },
     "execution_count": 3,
     "metadata": {},
     "output_type": "execute_result"
    }
   ],
   "source": [
    "# Working with the data of decision #\n",
    "df_decision = pd.read_csv(\"resources/list decision.csv\")\n",
    "df_decision[\"Sentencia_cleaned\"] = df_decision[\"Sentencia\"].apply(lambda x: process_paragraph(x))\n",
    "df_decision.head()"
   ]
  },
  {
   "cell_type": "code",
   "execution_count": 106,
   "metadata": {},
   "outputs": [],
   "source": [
    "# Modeling #\n",
    "\n",
    "# Splitting train data and test data 0.4 #\n",
    "X_train, X_test, y_train, y_test = train_test_split(df_decision['Sentencia_cleaned'].astype(str), df_decision['label'], test_size=0.4, shuffle=True, random_state=42)\n",
    "\n",
    "tfidf_vectorizer = TfidfVectorizer(ngram_range=(1,3), use_idf=True, max_features=300)\n",
    "\n",
    "X_train_vectors_tfidf = tfidf_vectorizer.fit_transform(X_train)\n",
    "\n",
    "# Para prediccion #\n",
    "X_test_vectors_tfidf = tfidf_vectorizer.transform(X_test)"
   ]
  },
  {
   "cell_type": "code",
   "execution_count": 67,
   "metadata": {},
   "outputs": [
    {
     "name": "stdout",
     "output_type": "stream",
     "text": [
      "[LightGBM] [Warning] lambda_l2 is set=15, reg_lambda=10 will be ignored. Current value: lambda_l2=15\n",
      "Accuracy: 0.8375209380234506\n",
      "Training Accuracy: 0.8747203579418344\n",
      "Distribucion del dataset:\n",
      " 0    1202\n",
      "1     289\n",
      "Name: label, dtype: int64\n"
     ]
    }
   ],
   "source": [
    "# Creating the model #\n",
    "# TODO NOLOSE #\n",
    "model = lgb.LGBMClassifier(max_bin=3,\n",
    "                        max_depth=5,\n",
    "                        lambda_l2=15,\n",
    "                        num_leaves=6,\n",
    "                        min_child_samples=10,\n",
    "                        subsample=0.3,\n",
    "                        colsample_bytree=0.5,\n",
    "                        reg_alpha=1,\n",
    "                        reg_lambda=10)\n",
    "\n",
    "# Fitting the model to the tfidf vectors #\n",
    "model.fit(X_train_vectors_tfidf, y_train)\n",
    "\n",
    "# Estimating model accuracy #\n",
    "y_pred = model.predict(X_test_vectors_tfidf)\n",
    "print(\"Accuracy:\", metrics.accuracy_score(y_test, y_pred))\n",
    "\n",
    "y_pred_train = model.predict(X_train_vectors_tfidf)\n",
    "print(\"Training Accuracy:\", metrics.accuracy_score(y_train, y_pred_train))\n",
    "\n",
    "print(\"Distribucion del dataset:\"+ '\\n',df_decision[\"label\"].value_counts())"
   ]
  },
  {
   "cell_type": "code",
   "execution_count": 107,
   "metadata": {},
   "outputs": [
    {
     "name": "stdout",
     "output_type": "stream",
     "text": [
      "[LightGBM] [Warning] lambda_l2 is set=15, reg_lambda=10 will be ignored. Current value: lambda_l2=15\n",
      "Accuracy: 0.8375209380234506\n",
      "Training Accuracy: 0.8747203579418344\n",
      "Distribucion del dataset:\n",
      " 0    1202\n",
      "1     289\n",
      "Name: label, dtype: int64\n"
     ]
    }
   ],
   "source": [
    "# Creating the model #\n",
    "model = lgb.LGBMClassifier(max_bin=3,\n",
    "                        max_depth=5,\n",
    "                        lambda_l2=15,\n",
    "                        num_leaves=6,\n",
    "                        min_child_samples=10,\n",
    "                        subsample=0.3,\n",
    "                        colsample_bytree=0.5,\n",
    "                        reg_alpha=1,\n",
    "                        reg_lambda=10)\n",
    "\n",
    "# Fitting the model to the tfidf vectors #\n",
    "model.fit(X_train_vectors_tfidf, y_train)\n",
    "\n",
    "# Estimating model accuracy #\n",
    "y_pred = model.predict(X_test_vectors_tfidf)\n",
    "print(\"Accuracy:\", metrics.accuracy_score(y_test, y_pred))\n",
    "\n",
    "y_pred_train = model.predict(X_train_vectors_tfidf)\n",
    "print(\"Training Accuracy:\", metrics.accuracy_score(y_train, y_pred_train))\n",
    "\n",
    "y_pred_proba = model.predict_proba(X_test_vectors_tfidf)\n",
    "\n",
    "print(\"Distribucion del dataset:\"+ '\\n',df_decision[\"label\"].value_counts())"
   ]
  },
  {
   "cell_type": "code",
   "execution_count": 73,
   "metadata": {},
   "outputs": [
    {
     "name": "stdout",
     "output_type": "stream",
     "text": [
      "0.8375209380234506\n"
     ]
    }
   ],
   "source": [
    "# Saving the pickle file #\n",
    "\n",
    "# Saving the model #\n",
    "filename = 'fitted_model_decision.sav'\n",
    "pickle.dump(model, open(filename, 'wb'))\n",
    "\n",
    "# Testing the model #\n",
    "loaded_model = pickle.load(open(filename, 'rb'))\n",
    "result = loaded_model.score(X_test_vectors_tfidf, y_test)\n",
    "print(result)\n",
    "\n",
    "# # Saving the vectors for testing #\n",
    "# file = open('variables_decision.txt', 'w')\n",
    "# pickle.dump(str(X_test_vectors_tfidf), file)\n",
    "# file.close()\n",
    " \n"
   ]
  },
  {
   "cell_type": "code",
   "execution_count": 39,
   "metadata": {},
   "outputs": [
    {
     "name": "stdout",
     "output_type": "stream",
     "text": [
      "Accuracy xgboost: 0.8107202680067002\n"
     ]
    }
   ],
   "source": [
    "# Testing the xgboost classifier for unbalanced classes\n",
    "from xgboost import XGBClassifier\n",
    "\n",
    "model_xgboost = XGBClassifier(use_label_encoder=False, eval_metric='mlogloss')\n",
    "model_xgboost.fit(X_train_vectors_tfidf, y_train)\n",
    "\n",
    "y_pred_xgb = model_xgboost.predict(X_test_vectors_tfidf)\n",
    "print(\"Accuracy xgboost:\", metrics.accuracy_score(y_test, y_pred_xgb))"
   ]
  },
  {
   "cell_type": "code",
   "execution_count": 100,
   "metadata": {},
   "outputs": [
    {
     "name": "stderr",
     "output_type": "stream",
     "text": [
      "C:\\Users\\Martin V\\AppData\\Local\\Packages\\PythonSoftwareFoundation.Python.3.10_qbz5n2kfra8p0\\LocalCache\\local-packages\\Python310\\site-packages\\sklearn\\utils\\deprecation.py:87: FutureWarning: Function plot_confusion_matrix is deprecated; Function `plot_confusion_matrix` is deprecated in 1.0 and will be removed in 1.2. Use one of the class methods: ConfusionMatrixDisplay.from_predictions or ConfusionMatrixDisplay.from_estimator.\n",
      "  warnings.warn(msg, category=FutureWarning)\n"
     ]
    },
    {
     "data": {
      "image/png": "[encoded data removed]",
      "text/plain": [
       "<Figure size 432x288 with 2 Axes>"
      ]
     },
     "metadata": {
      "needs_background": "light"
     },
     "output_type": "display_data"
    }
   ],
   "source": [
    "# Grafica de una matriz de confusion #\n",
    "\n",
    "metrics.plot_confusion_matrix(model, X_test_vectors_tfidf, y_test, cmap='Greens')\n",
    "plt.title('Confusion Matrix - Model(Feature = decision)')\n",
    "plt.show()"
   ]
  },
  {
   "cell_type": "code",
   "execution_count": 98,
   "metadata": {},
   "outputs": [
    {
     "ename": "ValueError",
     "evalue": "Found input variables with inconsistent numbers of samples: [597, 637]",
     "output_type": "error",
     "traceback": [
      "\u001b[1;31m---------------------------------------------------------------------------\u001b[0m",
      "\u001b[1;31mValueError\u001b[0m                                Traceback (most recent call last)",
      "\u001b[1;32md:\\DS4A\\DS4AProject\\OCR\\NLP Test\\Logistic_UTR_Test.ipynb Cell 10'\u001b[0m in \u001b[0;36m<cell line: 20>\u001b[1;34m()\u001b[0m\n\u001b[0;32m     <a href='vscode-notebook-cell:/d%3A/DS4A/DS4AProject/OCR/NLP%20Test/Logistic_UTR_Test.ipynb#ch0000016?line=17'>18</a>\u001b[0m \u001b[39m#model.fit(X_smoted, Y_smoted)\u001b[39;00m\n\u001b[0;32m     <a href='vscode-notebook-cell:/d%3A/DS4A/DS4AProject/OCR/NLP%20Test/Logistic_UTR_Test.ipynb#ch0000016?line=18'>19</a>\u001b[0m y_pred_smoted \u001b[39m=\u001b[39m model\u001b[39m.\u001b[39mpredict(X_smoted)\n\u001b[1;32m---> <a href='vscode-notebook-cell:/d%3A/DS4A/DS4AProject/OCR/NLP%20Test/Logistic_UTR_Test.ipynb#ch0000016?line=19'>20</a>\u001b[0m \u001b[39mprint\u001b[39m(metrics\u001b[39m.\u001b[39;49maccuracy_score(y_test,y_pred_smoted))\n\u001b[0;32m     <a href='vscode-notebook-cell:/d%3A/DS4A/DS4AProject/OCR/NLP%20Test/Logistic_UTR_Test.ipynb#ch0000016?line=21'>22</a>\u001b[0m \u001b[39m# Ploting the confusion matrix #\u001b[39;00m\n\u001b[0;32m     <a href='vscode-notebook-cell:/d%3A/DS4A/DS4AProject/OCR/NLP%20Test/Logistic_UTR_Test.ipynb#ch0000016?line=22'>23</a>\u001b[0m metrics\u001b[39m.\u001b[39mplot_confusion_matrix(model, X_test_vectors_tfidf, y_test)\n",
      "File \u001b[1;32m~\\AppData\\Local\\Packages\\PythonSoftwareFoundation.Python.3.10_qbz5n2kfra8p0\\LocalCache\\local-packages\\Python310\\site-packages\\sklearn\\metrics\\_classification.py:211\u001b[0m, in \u001b[0;36maccuracy_score\u001b[1;34m(y_true, y_pred, normalize, sample_weight)\u001b[0m\n\u001b[0;32m    145\u001b[0m \u001b[39m\"\"\"Accuracy classification score.\u001b[39;00m\n\u001b[0;32m    146\u001b[0m \n\u001b[0;32m    147\u001b[0m \u001b[39mIn multilabel classification, this function computes subset accuracy:\u001b[39;00m\n\u001b[1;32m   (...)\u001b[0m\n\u001b[0;32m    207\u001b[0m \u001b[39m0.5\u001b[39;00m\n\u001b[0;32m    208\u001b[0m \u001b[39m\"\"\"\u001b[39;00m\n\u001b[0;32m    210\u001b[0m \u001b[39m# Compute accuracy for each possible representation\u001b[39;00m\n\u001b[1;32m--> 211\u001b[0m y_type, y_true, y_pred \u001b[39m=\u001b[39m _check_targets(y_true, y_pred)\n\u001b[0;32m    212\u001b[0m check_consistent_length(y_true, y_pred, sample_weight)\n\u001b[0;32m    213\u001b[0m \u001b[39mif\u001b[39;00m y_type\u001b[39m.\u001b[39mstartswith(\u001b[39m\"\u001b[39m\u001b[39mmultilabel\u001b[39m\u001b[39m\"\u001b[39m):\n",
      "File \u001b[1;32m~\\AppData\\Local\\Packages\\PythonSoftwareFoundation.Python.3.10_qbz5n2kfra8p0\\LocalCache\\local-packages\\Python310\\site-packages\\sklearn\\metrics\\_classification.py:84\u001b[0m, in \u001b[0;36m_check_targets\u001b[1;34m(y_true, y_pred)\u001b[0m\n\u001b[0;32m     57\u001b[0m \u001b[39mdef\u001b[39;00m \u001b[39m_check_targets\u001b[39m(y_true, y_pred):\n\u001b[0;32m     58\u001b[0m     \u001b[39m\"\"\"Check that y_true and y_pred belong to the same classification task.\u001b[39;00m\n\u001b[0;32m     59\u001b[0m \n\u001b[0;32m     60\u001b[0m \u001b[39m    This converts multiclass or binary types to a common shape, and raises a\u001b[39;00m\n\u001b[1;32m   (...)\u001b[0m\n\u001b[0;32m     82\u001b[0m \u001b[39m    y_pred : array or indicator matrix\u001b[39;00m\n\u001b[0;32m     83\u001b[0m \u001b[39m    \"\"\"\u001b[39;00m\n\u001b[1;32m---> 84\u001b[0m     check_consistent_length(y_true, y_pred)\n\u001b[0;32m     85\u001b[0m     type_true \u001b[39m=\u001b[39m type_of_target(y_true, input_name\u001b[39m=\u001b[39m\u001b[39m\"\u001b[39m\u001b[39my_true\u001b[39m\u001b[39m\"\u001b[39m)\n\u001b[0;32m     86\u001b[0m     type_pred \u001b[39m=\u001b[39m type_of_target(y_pred, input_name\u001b[39m=\u001b[39m\u001b[39m\"\u001b[39m\u001b[39my_pred\u001b[39m\u001b[39m\"\u001b[39m)\n",
      "File \u001b[1;32m~\\AppData\\Local\\Packages\\PythonSoftwareFoundation.Python.3.10_qbz5n2kfra8p0\\LocalCache\\local-packages\\Python310\\site-packages\\sklearn\\utils\\validation.py:387\u001b[0m, in \u001b[0;36mcheck_consistent_length\u001b[1;34m(*arrays)\u001b[0m\n\u001b[0;32m    385\u001b[0m uniques \u001b[39m=\u001b[39m np\u001b[39m.\u001b[39munique(lengths)\n\u001b[0;32m    386\u001b[0m \u001b[39mif\u001b[39;00m \u001b[39mlen\u001b[39m(uniques) \u001b[39m>\u001b[39m \u001b[39m1\u001b[39m:\n\u001b[1;32m--> 387\u001b[0m     \u001b[39mraise\u001b[39;00m \u001b[39mValueError\u001b[39;00m(\n\u001b[0;32m    388\u001b[0m         \u001b[39m\"\u001b[39m\u001b[39mFound input variables with inconsistent numbers of samples: \u001b[39m\u001b[39m%r\u001b[39;00m\u001b[39m\"\u001b[39m\n\u001b[0;32m    389\u001b[0m         \u001b[39m%\u001b[39m [\u001b[39mint\u001b[39m(l) \u001b[39mfor\u001b[39;00m l \u001b[39min\u001b[39;00m lengths]\n\u001b[0;32m    390\u001b[0m     )\n",
      "\u001b[1;31mValueError\u001b[0m: Found input variables with inconsistent numbers of samples: [597, 637]"
     ]
    }
   ],
   "source": [
    "# Rebalanceo utilizando smote #\n",
    "from imblearn.over_sampling import SMOTE\n",
    "from imblearn.under_sampling import RandomUnderSampler\n",
    "from imblearn.pipeline import Pipeline\n",
    "\n",
    "# Starting the sampling methods #\n",
    "\n",
    "#Oversampling label1 with 30%#\n",
    "over = SMOTE(sampling_strategy=0.25)\n",
    "\n",
    "#Undersampling label 0 with 45%\n",
    "under = RandomUnderSampler(sampling_strategy=0.4)\n",
    "steps = [('o', over), ('u', under)]\n",
    "pipeline = Pipeline(steps=steps)\n",
    "\n",
    "# Transforming the dataset with the pipeline #\n",
    "X_smoted, Y_smoted = pipeline.fit_resample(X_train_vectors_tfidf, y_train)\n",
    "#model.fit(X_smoted, Y_smoted)\n",
    "y_pred_smoted = model.predict(X_smoted)\n",
    "print(metrics.accuracy_score(y_test,y_pred_smoted))\n",
    "\n",
    "# Ploting the confusion matrix #\n",
    "metrics.plot_confusion_matrix(model, X_test_vectors_tfidf, y_test)\n",
    "plt.title('Confusion Matrix - Model output (Feature = sentido decision)')\n",
    "plt.show()"
   ]
  },
  {
   "cell_type": "code",
   "execution_count": 58,
   "metadata": {},
   "outputs": [
    {
     "name": "stdout",
     "output_type": "stream",
     "text": [
      "Size of biggest class:  1202\n",
      "0    1202\n",
      "1    1202\n",
      "Name: label, dtype: int64\n",
      "2404\n",
      "<class 'pandas.core.frame.DataFrame'>\n",
      "RangeIndex: 2404 entries, 0 to 2403\n",
      "Data columns (total 3 columns):\n",
      " #   Column             Non-Null Count  Dtype \n",
      "---  ------             --------------  ----- \n",
      " 0   Sentencia          2404 non-null   object\n",
      " 1   label              2404 non-null   int64 \n",
      " 2   Sentencia_cleaned  2404 non-null   object\n",
      "dtypes: int64(1), object(2)\n",
      "memory usage: 56.5+ KB\n",
      "None\n"
     ]
    },
    {
     "data": {
      "text/html": [
       "<div>\n",
       "<style scoped>\n",
       "    .dataframe tbody tr th:only-of-type {\n",
       "        vertical-align: middle;\n",
       "    }\n",
       "\n",
       "    .dataframe tbody tr th {\n",
       "        vertical-align: top;\n",
       "    }\n",
       "\n",
       "    .dataframe thead th {\n",
       "        text-align: right;\n",
       "    }\n",
       "</style>\n",
       "<table border=\"1\" class=\"dataframe\">\n",
       "  <thead>\n",
       "    <tr style=\"text-align: right;\">\n",
       "      <th></th>\n",
       "      <th>Sentencia</th>\n",
       "      <th>label</th>\n",
       "      <th>Sentencia_cleaned</th>\n",
       "    </tr>\n",
       "  </thead>\n",
       "  <tbody>\n",
       "    <tr>\n",
       "      <th>0</th>\n",
       "      <td>folio 522 529 , en el cual se solicita reconoc...</td>\n",
       "      <td>0</td>\n",
       "      <td>foli 522 529 solicit reconoc senor hortensi ch...</td>\n",
       "    </tr>\n",
       "    <tr>\n",
       "      <th>1</th>\n",
       "      <td>especializado en restitucion de tierras de pop...</td>\n",
       "      <td>1</td>\n",
       "      <td>especializ restitucion tierr popay call 2 nro ...</td>\n",
       "    </tr>\n",
       "    <tr>\n",
       "      <th>2</th>\n",
       "      <td>onas indeterminadas que se consideraran afecta...</td>\n",
       "      <td>0</td>\n",
       "      <td>onas indetermin consider afect decision tom pr...</td>\n",
       "    </tr>\n",
       "    <tr>\n",
       "      <th>3</th>\n",
       "      <td>013121002-2014-0072-00 encuentra ubicado en el...</td>\n",
       "      <td>0</td>\n",
       "      <td>013121002 2014 0072 00 encuentr ubic municipi ...</td>\n",
       "    </tr>\n",
       "    <tr>\n",
       "      <th>4</th>\n",
       "      <td>es en la vereda ia secreta en octubre del año ...</td>\n",
       "      <td>0</td>\n",
       "      <td>es vered secret octubr ano 1998 qued comprob d...</td>\n",
       "    </tr>\n",
       "  </tbody>\n",
       "</table>\n",
       "</div>"
      ],
      "text/plain": [
       "                                           Sentencia  label  \\\n",
       "0  folio 522 529 , en el cual se solicita reconoc...      0   \n",
       "1  especializado en restitucion de tierras de pop...      1   \n",
       "2  onas indeterminadas que se consideraran afecta...      0   \n",
       "3  013121002-2014-0072-00 encuentra ubicado en el...      0   \n",
       "4  es en la vereda ia secreta en octubre del año ...      0   \n",
       "\n",
       "                                   Sentencia_cleaned  \n",
       "0  foli 522 529 solicit reconoc senor hortensi ch...  \n",
       "1  especializ restitucion tierr popay call 2 nro ...  \n",
       "2  onas indetermin consider afect decision tom pr...  \n",
       "3  013121002 2014 0072 00 encuentr ubic municipi ...  \n",
       "4  es vered secret octubr ano 1998 qued comprob d...  "
      ]
     },
     "execution_count": 58,
     "metadata": {},
     "output_type": "execute_result"
    }
   ],
   "source": [
    "oversampled_df = df_decision.copy()\n",
    "max_class_size = np.max(oversampled_df['label'].value_counts())\n",
    "print('Size of biggest class: ', max_class_size)\n",
    "\n",
    "class_subsets = [oversampled_df.query('label == ' + str(i)) for i in range(2)] # range(2) because it is a binary class\n",
    "\n",
    "for i in range(2):\n",
    "  class_subsets[i] = class_subsets[i].sample(max_class_size,random_state=42,replace=True)\n",
    "\n",
    "oversampled_df = pd.concat(class_subsets,axis=0).sample(frac=1.0,random_state=42).reset_index(drop=True)\n",
    "print(oversampled_df[\"label\"].value_counts())\n",
    "print(len( oversampled_df[\"Sentencia\"] ))\n",
    "print(oversampled_df.info())\n",
    "oversampled_df.head()\n",
    "\n"
   ]
  },
  {
   "cell_type": "code",
   "execution_count": 102,
   "metadata": {},
   "outputs": [
    {
     "name": "stdout",
     "output_type": "stream",
     "text": [
      "[LightGBM] [Warning] lambda_l2 is set=15, reg_lambda=10 will be ignored. Current value: lambda_l2=15\n",
      "Accuracy Oversampled: 0.8076923076923077\n",
      "Accuracy Original: 0.8375209380234506\n"
     ]
    },
    {
     "name": "stderr",
     "output_type": "stream",
     "text": [
      "C:\\Users\\Martin V\\AppData\\Local\\Packages\\PythonSoftwareFoundation.Python.3.10_qbz5n2kfra8p0\\LocalCache\\local-packages\\Python310\\site-packages\\sklearn\\utils\\deprecation.py:87: FutureWarning: Function plot_confusion_matrix is deprecated; Function `plot_confusion_matrix` is deprecated in 1.0 and will be removed in 1.2. Use one of the class methods: ConfusionMatrixDisplay.from_predictions or ConfusionMatrixDisplay.from_estimator.\n",
      "  warnings.warn(msg, category=FutureWarning)\n"
     ]
    },
    {
     "data": {
      "image/png": "[encoded data removed]",
      "text/plain": [
       "<Figure size 432x288 with 2 Axes>"
      ]
     },
     "metadata": {
      "needs_background": "light"
     },
     "output_type": "display_data"
    }
   ],
   "source": [
    "# Modeling #\n",
    "\n",
    "# Splitting train data and test data 0.4 #\n",
    "X_train_oversampled, X_test_oversampled, y_train_oversampled, y_test_oversampled = train_test_split(oversampled_df['Sentencia_cleaned'].astype(str), oversampled_df['label'], test_size=0.4, shuffle=True, random_state=42)\n",
    "\n",
    "tfidf_vectorizer = TfidfVectorizer(ngram_range=(1,3), use_idf=True, max_features=300)\n",
    "\n",
    "X_train_vectors_tfidf_oversampled = tfidf_vectorizer.fit_transform(X_train_oversampled)\n",
    "\n",
    "# Para prediccion #\n",
    "X_test_vectors_tfidf_oversampled = tfidf_vectorizer.transform(X_test_oversampled)\n",
    "\n",
    "# Fitting the model to the tfidf vectors #\n",
    "model.fit(X_train_vectors_tfidf_oversampled, y_train_oversampled)\n",
    "\n",
    "# Estimating model accuracy #\n",
    "y_pred_oversampled = model.predict(X_test_vectors_tfidf_oversampled)\n",
    "print(\"Accuracy Oversampled:\", metrics.accuracy_score(y_test_oversampled, y_pred_oversampled))\n",
    "\n",
    "print(\"Accuracy Original:\", metrics.accuracy_score(y_test, y_pred))\n",
    "\n",
    "metrics.plot_confusion_matrix(model, X_test_vectors_tfidf_oversampled, y_test_oversampled, cmap='Greens')\n",
    "plt.title('Confusion Matrix - SMOTE(Feature = decision)')\n",
    "plt.show()\n"
   ]
  },
  {
   "cell_type": "code",
   "execution_count": 108,
   "metadata": {},
   "outputs": [
    {
     "data": {
      "image/png": "[encoded data removed]",
      "text/plain": [
       "<Figure size 480x320 with 1 Axes>"
      ]
     },
     "metadata": {
      "needs_background": "light"
     },
     "output_type": "display_data"
    }
   ],
   "source": [
    "y_pred_proba = model.predict_proba(X_test_vectors_tfidf)\n",
    "fpr, tpr, _ = metrics.roc_curve(y_test, y_pred_proba[:,1])\n",
    "auc = metrics.auc(fpr,tpr)\n",
    "plt.figure(figsize=(6,4), dpi=80)\n",
    "plt.plot(fpr,tpr,label=\"(AUC = {0:0.3f})\".format(auc),)\n",
    "plt.plot([0, 1], [0, 1], \"k--\", lw=2)\n",
    "plt.title(\"ROC for Tuned LGBM model (f=decision)\")\n",
    "plt.xlabel(\"False Positive Rate\")\n",
    "plt.ylabel(\"True Positive Rate\")\n",
    "plt.legend()\n",
    "plt.show()"
   ]
  },
  {
   "cell_type": "code",
   "execution_count": null,
   "metadata": {},
   "outputs": [],
   "source": []
  },
  {
   "cell_type": "code",
   "execution_count": 42,
   "metadata": {},
   "outputs": [
    {
     "name": "stdout",
     "output_type": "stream",
     "text": [
      "[[0.88207091 0.11792909]\n",
      " [0.77143014 0.22856986]\n",
      " [0.92364371 0.07635629]\n",
      " ...\n",
      " [0.91612967 0.08387033]\n",
      " [0.89313755 0.10686245]\n",
      " [0.93499537 0.06500463]]\n"
     ]
    }
   ],
   "source": [
    "test_df = pd.read_csv(\"resources/list_to_test.csv\")\n",
    "test_input = test_df[\"Sentencia\"].apply(lambda x: process_paragraph(x))\n",
    "test_input = tfidf_vectorizer.fit_transform(test_input)\n",
    "\n",
    "# usar predict proba # .targe value_counts() 0 y 1\n",
    "test_pred = model.predict_proba(test_input)\n",
    "print(test_pred)"
   ]
  },
  {
   "cell_type": "code",
   "execution_count": 40,
   "metadata": {},
   "outputs": [
    {
     "name": "stdout",
     "output_type": "stream",
     "text": [
      "<class 'numpy.ndarray'> (511, 2)\n"
     ]
    }
   ],
   "source": [
    "print(type(test_pred), np.shape(test_pred))"
   ]
  },
  {
   "cell_type": "code",
   "execution_count": 37,
   "metadata": {},
   "outputs": [],
   "source": [
    "def find_top5(vector):\n",
    "    ind = np.argpartition(vector[:,1], -4)[-4:]\n",
    "    proba = vector[:,1][ind]\n",
    "    return  proba\n",
    "\n",
    "def print_values(proba):\n",
    "    for i in proba:\n",
    "        print('Probability =',proba[i])"
   ]
  },
  {
   "cell_type": "code",
   "execution_count": 51,
   "metadata": {},
   "outputs": [
    {
     "name": "stdout",
     "output_type": "stream",
     "text": [
      "Index for top 5: [247 243 266 254 261 265]\n",
      "Probability for top 5: [0.48028561 0.62052826 0.54807249 0.57581812 0.58860914 0.61026377]\n"
     ]
    }
   ],
   "source": [
    "# Retrieving the top 5 higher probabilities #\n",
    "\n",
    "#Retrieving the index in the vector 2nd column (positive value)\n",
    "ind = np.argpartition(test_pred[:,1], -6)[-6:]\n",
    "print('Index for top 5:',ind)\n",
    "\n",
    "# Retrieving the value of the index found earlier #\n",
    "probability = test_pred[:,1][ind]\n",
    "print('Probability for top 5:', probability)"
   ]
  },
  {
   "cell_type": "code",
   "execution_count": 75,
   "metadata": {},
   "outputs": [],
   "source": [
    "# Exporting arrays for ROC Plotter #\n",
    "arr = np.asarray ( y_test )\n",
    "arr_proba = np.asarray ( y_pred_proba[:,1] )\n",
    "#print(arr)\n",
    "arr.tofile('modelGraphData/data_model_decision_yTest.csv', sep=',')\n",
    "arr_proba.tofile('modelGraphData/data_model_decision_yProba.csv', sep=',')"
   ]
  },
  {
   "cell_type": "code",
   "execution_count": 25,
   "metadata": {},
   "outputs": [
    {
     "name": "stdout",
     "output_type": "stream",
     "text": [
      "511\n"
     ]
    }
   ],
   "source": [
    "# Queda por implementar una matriz de confusion para validar el rendimiento #\n",
    "# Mirar como usar el modelo de forma facil para implementarlo en backend #\n",
    "# Si se retorna un 0 en el array de vectores se confirma que se puede extraer el feature.#\n",
    "#Configurar el retorno de la funcion #\n",
    "\n",
    "#Parrafo -> predict clase -> predict proba confianza del modelo (0.8) - mostrar todos los parrafos para doc.\n",
    "# quedarme con el top 5 DONE\n",
    "# iperparameter tuning #\n",
    "# igbm desbalanceado y tecnicas de balance (2) tecnica smout, f1, precision #\n",
    "# xgboost xgboost is_unbalanced = True. (1) #\n",
    "# indice | Texto sin preprocesar en la vecindad de la palabra | Texo preprocesado | "
   ]
  }
 ],
 "metadata": {
  "kernelspec": {
   "display_name": "Python 3.10.5 64-bit (windows store)",
   "language": "python",
   "name": "python3"
  },
  "language_info": {
   "codemirror_mode": {
    "name": "ipython",
    "version": 3
   },
   "file_extension": ".py",
   "mimetype": "text/x-python",
   "name": "python",
   "nbconvert_exporter": "python",
   "pygments_lexer": "ipython3",
   "version": "3.10.5"
  },
  "orig_nbformat": 4,
  "vscode": {
   "interpreter": {
    "hash": "4729daa3817cd1146e5026202f6cdaf5077192fb88a0294c4b08b53470730024"
   }
  }
 },
 "nbformat": 4,
 "nbformat_minor": 2
}
