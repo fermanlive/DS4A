{
 "cells": [
  {
   "cell_type": "code",
   "execution_count": 2,
   "metadata": {},
   "outputs": [],
   "source": [
    "# Importing libraries #\n",
    "import re, string\n",
    "import nltk\n",
    "import pickle\n",
    "import numpy as np\n",
    "import pandas as pd\n",
    "import lightgbm as lgb\n",
    "import seaborn as sn\n",
    "import language_tool_python\n",
    "import matplotlib.pyplot as plt\n",
    "from nltk.corpus import stopwords, wordnet\n",
    "from nltk.tokenize import WordPunctTokenizer\n",
    "from nltk.stem import WordNetLemmatizer, SnowballStemmer\n",
    "from textacy import preprocessing\n",
    "from sklearn.model_selection import train_test_split\n",
    "from sklearn.feature_extraction.text import TfidfVectorizer, CountVectorizer\n",
    "import sklearn.metrics as metrics\n",
    "from sklearn.pipeline import Pipeline\n",
    "\n",
    "tool = language_tool_python.LanguageTool('es-US')\n",
    "stemmer = SnowballStemmer('spanish')"
   ]
  },
  {
   "cell_type": "code",
   "execution_count": 1,
   "metadata": {},
   "outputs": [],
   "source": [
    "# Deifining key functions #\n",
    "\n",
    "# Preprocessing paragraphs #\n",
    "\n",
    "def process_paragraph(paragraph):\n",
    "    \"\"\"\n",
    "    This function removes non representative string characters\n",
    "    input: paragraph extracted from plain text file\n",
    "    output: paragraph withoput stopwords and punctuation\n",
    "    \"\"\"\n",
    "\n",
    "    # Function for data cleaning #\n",
    "    def text_cleaning(text_to_clean):\n",
    "        \"\"\"\n",
    "        This function cleans the text data\n",
    "         \"\"\"\n",
    "        text_to_clean = preprocessing.remove.punctuation(text_to_clean)\n",
    "        text_to_clean = preprocessing.remove.accents(text_to_clean)\n",
    "        text_to_clean = preprocessing.normalize.whitespace(text_to_clean)\n",
    "        text_to_clean = preprocessing.normalize.unicode(text_to_clean)\n",
    "        return text_to_clean\n",
    "    \n",
    "    # Function for removing stopwords #\n",
    "    def stopword(string):\n",
    "        a = [i for i in string.split() if i not in stopwords.words('spanish')]\n",
    "        return ' '.join(a)\n",
    "\n",
    "    # Stemming the paragraph #\n",
    "    def stemming(text_to_process):\n",
    "        return ' '.join([ stemmer.stem(i) for i in text_to_process.split() ])\n",
    "\n",
    "    # Correcting the input pragraph #\n",
    "    new_paragraph =  stemming(stopword(text_cleaning(tool.correct(paragraph))))\n",
    "\n",
    "    return new_paragraph"
   ]
  },
  {
   "cell_type": "code",
   "execution_count": 5,
   "metadata": {},
   "outputs": [],
   "source": [
    "# Working with perdida dataset #\n",
    "# Working with the data of decision #\n",
    "df_solicitante = pd.read_csv(\"resources/list_solicitante.csv\")\n",
    "df_solicitante[\"Sentencia_cleaned\"] = df_solicitante[\"sentences\"].apply(lambda x: process_paragraph(x))"
   ]
  },
  {
   "cell_type": "code",
   "execution_count": 7,
   "metadata": {},
   "outputs": [],
   "source": [
    "# Modeling #\n",
    "\n",
    "# Splitting train data and test data 0.4 #\n",
    "X_train, X_test, y_train, y_test = train_test_split(df_solicitante['Sentencia_cleaned'].astype(str), df_solicitante['Label'], test_size=0.4, shuffle=True, random_state=42)\n",
    "tfidf_vectorizer = TfidfVectorizer(ngram_range=(1,3), use_idf=True, max_features=300)\n",
    "X_train_vectors_tfidf = tfidf_vectorizer.fit_transform(X_train)\n",
    "\n",
    "# Para prediccion #\n",
    "X_test_vectors_tfidf = tfidf_vectorizer.transform(X_test)"
   ]
  },
  {
   "cell_type": "code",
   "execution_count": 50,
   "metadata": {},
   "outputs": [
    {
     "name": "stdout",
     "output_type": "stream",
     "text": [
      "[LightGBM] [Warning] lambda_l2 is set=15, reg_lambda=10 will be ignored. Current value: lambda_l2=15\n",
      "Accuracy: 0.8872437357630979\n",
      "Training Accuracy: 0.8967350037965072\n",
      "Distribucion del dataset:\n",
      " 0    1843\n",
      "1     352\n",
      "Name: Label, dtype: int64\n"
     ]
    }
   ],
   "source": [
    "# Creating the model #\n",
    "model = lgb.LGBMClassifier(max_bin=3,\n",
    "                        max_depth=5,\n",
    "                        lambda_l2=15,\n",
    "                        num_leaves=7,\n",
    "                        min_child_samples=10,\n",
    "                        subsample=0.3,\n",
    "                        colsample_bytree=0.5,\n",
    "                        reg_alpha=1,\n",
    "                        reg_lambda=10)\n",
    "\n",
    "# Fitting the model to the tfidf vectors #\n",
    "model.fit(X_train_vectors_tfidf, y_train)\n",
    "\n",
    "# Estimating model accuracy #\n",
    "y_pred = model.predict(X_test_vectors_tfidf)\n",
    "print(\"Accuracy:\", metrics.accuracy_score(y_test, y_pred))\n",
    "\n",
    "y_pred_train = model.predict(X_train_vectors_tfidf)\n",
    "print(\"Training Accuracy:\", metrics.accuracy_score(y_train, y_pred_train))\n",
    "\n",
    "y_pred_proba = model.predict_proba(X_test_vectors_tfidf)\n",
    "\n",
    "print(\"Distribucion del dataset:\"+ '\\n',df_solicitante[\"Label\"].value_counts())"
   ]
  },
  {
   "cell_type": "code",
   "execution_count": 51,
   "metadata": {},
   "outputs": [
    {
     "name": "stderr",
     "output_type": "stream",
     "text": [
      "C:\\Users\\Martin V\\AppData\\Local\\Packages\\PythonSoftwareFoundation.Python.3.10_qbz5n2kfra8p0\\LocalCache\\local-packages\\Python310\\site-packages\\sklearn\\utils\\deprecation.py:87: FutureWarning: Function plot_confusion_matrix is deprecated; Function `plot_confusion_matrix` is deprecated in 1.0 and will be removed in 1.2. Use one of the class methods: ConfusionMatrixDisplay.from_predictions or ConfusionMatrixDisplay.from_estimator.\n",
      "  warnings.warn(msg, category=FutureWarning)\n"
     ]
    },
    {
     "data": {
      "image/png": "[encoded data removed]",
      "text/plain": [
       "<Figure size 432x288 with 2 Axes>"
      ]
     },
     "metadata": {
      "needs_background": "light"
     },
     "output_type": "display_data"
    }
   ],
   "source": [
    "# Grafica de una matriz de confusion #\n",
    "\n",
    "metrics.plot_confusion_matrix(model, X_test_vectors_tfidf, y_test, cmap='Greens')\n",
    "plt.title('Confusion Matrix - Model(Feature = solicitante)')\n",
    "plt.show()"
   ]
  },
  {
   "cell_type": "code",
   "execution_count": 10,
   "metadata": {},
   "outputs": [],
   "source": [
    "# Pickle dumps #\n",
    "\n",
    "path_model = \"pickle_files/\"\n",
    "path_transformer = path_model\n",
    "filename_model = \"fitted_model_solicitante.pkl\"\n",
    "filename_transformer = \"transformer_model_solicitante.pkl\"\n",
    "pickle.dump(model, open(path_model+filename_model, 'wb'))\n",
    "pickle.dump(tfidf_vectorizer, open(path_transformer+filename_transformer, 'wb'))"
   ]
  },
  {
   "cell_type": "code",
   "execution_count": 48,
   "metadata": {},
   "outputs": [],
   "source": [
    "# Exporting arrays for ROC Plotter #\n",
    "arr = np.asarray ( y_test )\n",
    "arr_proba = np.asarray ( y_pred_proba[:,1] )\n",
    "#print(arr)\n",
    "arr.tofile('modelGraphData/data_model_solicitante_yTest.csv', sep=',')\n",
    "arr_proba.tofile('modelGraphData/data_model_solicitante_yProba.csv', sep=',')"
   ]
  },
  {
   "cell_type": "code",
   "execution_count": 32,
   "metadata": {},
   "outputs": [
    {
     "data": {
      "image/png": "[encoded data removed]",
      "text/plain": [
       "<Figure size 432x288 with 1 Axes>"
      ]
     },
     "metadata": {
      "needs_background": "light"
     },
     "output_type": "display_data"
    }
   ],
   "source": [
    "# Ploting ROC curve #\n",
    "#metrics.plot_roc_curve(model,X_test_vectors_tfidf, y_test)\n",
    "fpr, tpr, _ = metrics.roc_curve(y_test, y_pred_proba[:,1])\n",
    "plt.plot(fpr,tpr)\n",
    "plt.plot([0, 1], [0, 1], \"k--\", lw=2)\n",
    "plt.show()"
   ]
  }
 ],
 "metadata": {
  "kernelspec": {
   "display_name": "Python 3.10.5 64-bit (windows store)",
   "language": "python",
   "name": "python3"
  },
  "language_info": {
   "codemirror_mode": {
    "name": "ipython",
    "version": 3
   },
   "file_extension": ".py",
   "mimetype": "text/x-python",
   "name": "python",
   "nbconvert_exporter": "python",
   "pygments_lexer": "ipython3",
   "version": "3.10.5"
  },
  "orig_nbformat": 4,
  "vscode": {
   "interpreter": {
    "hash": "4729daa3817cd1146e5026202f6cdaf5077192fb88a0294c4b08b53470730024"
   }
  }
 },
 "nbformat": 4,
 "nbformat_minor": 2
}
