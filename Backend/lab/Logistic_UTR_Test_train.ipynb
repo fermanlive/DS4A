{
 "cells": [
  {
   "cell_type": "code",
   "execution_count": 11,
   "metadata": {},
   "outputs": [
    {
     "name": "stderr",
     "output_type": "stream",
     "text": [
      "[nltk_data] Downloading package stopwords to\n",
      "[nltk_data]     /Users/dmurcia/nltk_data...\n",
      "[nltk_data]   Package stopwords is already up-to-date!\n"
     ]
    },
    {
     "data": {
      "text/plain": [
       "True"
      ]
     },
     "execution_count": 11,
     "metadata": {},
     "output_type": "execute_result"
    }
   ],
   "source": [
    "# Importing libraries #\n",
    "import re, string\n",
    "import nltk\n",
    "import numpy as np\n",
    "import pandas as pd\n",
    "import lightgbm as lgb\n",
    "import seaborn as sn\n",
    "import language_tool_python\n",
    "import matplotlib.pyplot as plt\n",
    "from nltk.corpus import stopwords, wordnet\n",
    "from nltk.tokenize import WordPunctTokenizer\n",
    "from nltk.stem import WordNetLemmatizer, SnowballStemmer\n",
    "from textacy import preprocessing\n",
    "from sklearn.model_selection import train_test_split\n",
    "from sklearn.feature_extraction.text import TfidfVectorizer, CountVectorizer\n",
    "import sklearn.metrics as metrics\n",
    "from sklearn.pipeline import Pipeline\n",
    "\n",
    "tool = language_tool_python.LanguageTool('es-US')\n",
    "stemmer = SnowballStemmer('spanish')\n",
    "nltk.download('stopwords')"
   ]
  },
  {
   "cell_type": "code",
   "execution_count": 12,
   "metadata": {},
   "outputs": [
    {
     "name": "stdout",
     "output_type": "stream",
     "text": [
      "imitenl dich are financiacion esquem pag servici ambiental anterior signif hech predi restitu repos inform corporal localiz rond hidric rio adem are ocup establec limit dc humedal rio leon segun municipi dc vigor defin are ocup terren preservacion produccion acb\n"
     ]
    }
   ],
   "source": [
    "# Deifining key functions #\n",
    "\n",
    "# Preprocessing paragraphs #\n",
    "\n",
    "def process_paragraph(paragraph):\n",
    "    \"\"\"\n",
    "    This function removes non representative string characters\n",
    "    input: paragraph extracted from plain text file\n",
    "    output: paragraph withoput stopwords and punctuation\n",
    "    \"\"\"\n",
    "\n",
    "    # Function for data cleaning #\n",
    "    def text_cleaning(text_to_clean):\n",
    "        \"\"\"\n",
    "        This function cleans the text data\n",
    "         \"\"\"\n",
    "        text_to_clean = preprocessing.remove.punctuation(text_to_clean)\n",
    "        text_to_clean = preprocessing.remove.accents(text_to_clean)\n",
    "        text_to_clean = preprocessing.normalize.whitespace(text_to_clean)\n",
    "        text_to_clean = preprocessing.normalize.unicode(text_to_clean)\n",
    "        return text_to_clean\n",
    "    \n",
    "    # Function for removing stopwords #\n",
    "    def stopword(string):\n",
    "        a = [i for i in string.split() if i not in stopwords.words('spanish')]\n",
    "        return ' '.join(a)\n",
    "\n",
    "    # Stemming the paragraph #\n",
    "    def stemming(text_to_process):\n",
    "        return ' '.join([ stemmer.stem(i) for i in text_to_process.split() ])\n",
    "\n",
    "    # Correcting the input pragraph #\n",
    "    new_paragraph =  stemming(stopword(text_cleaning(tool.correct(paragraph))))\n",
    "\n",
    "    return new_paragraph\n",
    "\n",
    "# Testing of functions #\n",
    "test_paragraph = 'imienlo de dichas areas y la financiacion de los csquemas de pago por servicios ambientales _ lo anterior significa que el hecho que el predio que se restituye el reposo} cumo lo informo corpouraba, se localiza en la ronda hidrica del rio lcon. adcmas que el area que estc ocupa esta establecido como limite dc los humcdales del rio leon y quc segun el pot del municipio dc chigorodo define el area que ocupa este terreno como de preservacion y prolcccion amb'\n",
    "print(process_paragraph(test_paragraph))"
   ]
  },
  {
   "cell_type": "code",
   "execution_count": 13,
   "metadata": {},
   "outputs": [
    {
     "data": {
      "text/html": [
       "<div>\n",
       "<style scoped>\n",
       "    .dataframe tbody tr th:only-of-type {\n",
       "        vertical-align: middle;\n",
       "    }\n",
       "\n",
       "    .dataframe tbody tr th {\n",
       "        vertical-align: top;\n",
       "    }\n",
       "\n",
       "    .dataframe thead th {\n",
       "        text-align: right;\n",
       "    }\n",
       "</style>\n",
       "<table border=\"1\" class=\"dataframe\">\n",
       "  <thead>\n",
       "    <tr style=\"text-align: right;\">\n",
       "      <th></th>\n",
       "      <th>Sentencia</th>\n",
       "      <th>label</th>\n",
       "      <th>Sentencia_cleaned</th>\n",
       "    </tr>\n",
       "  </thead>\n",
       "  <tbody>\n",
       "    <tr>\n",
       "      <th>0</th>\n",
       "      <td>imienlo de dichas areas y la financiacion de l...</td>\n",
       "      <td>1</td>\n",
       "      <td>imitenl dich are financiacion esquem pag servi...</td>\n",
       "    </tr>\n",
       "    <tr>\n",
       "      <th>1</th>\n",
       "      <td>abrir un nuevo folio de matricula inmobiliaria...</td>\n",
       "      <td>0</td>\n",
       "      <td>abrir nuev foli matricul inmobiliari vei j dej...</td>\n",
       "    </tr>\n",
       "    <tr>\n",
       "      <th>2</th>\n",
       "      <td>al predio restituido se debera brindar segurid...</td>\n",
       "      <td>0</td>\n",
       "      <td>al predi restitu deber brind segur presenci pe...</td>\n",
       "    </tr>\n",
       "    <tr>\n",
       "      <th>3</th>\n",
       "      <td>mobiliaria: la esterlina (008-11695): las dali...</td>\n",
       "      <td>0</td>\n",
       "      <td>mobiliari esterlin 008 11695 dali 2 008 11172 ...</td>\n",
       "    </tr>\n",
       "    <tr>\n",
       "      <th>4</th>\n",
       "      <td>folio 15 reverso; cuaderno no. 001_ tribunal s...</td>\n",
       "      <td>0</td>\n",
       "      <td>foli 15 revers cuadern 001 tribunal superior d...</td>\n",
       "    </tr>\n",
       "  </tbody>\n",
       "</table>\n",
       "</div>"
      ],
      "text/plain": [
       "                                           Sentencia  label  \\\n",
       "0  imienlo de dichas areas y la financiacion de l...      1   \n",
       "1  abrir un nuevo folio de matricula inmobiliaria...      0   \n",
       "2  al predio restituido se debera brindar segurid...      0   \n",
       "3  mobiliaria: la esterlina (008-11695): las dali...      0   \n",
       "4  folio 15 reverso; cuaderno no. 001_ tribunal s...      0   \n",
       "\n",
       "                                   Sentencia_cleaned  \n",
       "0  imitenl dich are financiacion esquem pag servi...  \n",
       "1  abrir nuev foli matricul inmobiliari vei j dej...  \n",
       "2  al predi restitu deber brind segur presenci pe...  \n",
       "3  mobiliari esterlin 008 11695 dali 2 008 11172 ...  \n",
       "4  foli 15 revers cuadern 001 tribunal superior d...  "
      ]
     },
     "execution_count": 13,
     "metadata": {},
     "output_type": "execute_result"
    }
   ],
   "source": [
    "# Working with the data of decision #\n",
    "df_decision = pd.read_csv(\"/Users/dmurcia/Documents/personal/DS4A/Proyecto final/DS4A/Backend/resources/list decision.csv\")\n",
    "df_decision[\"Sentencia_cleaned\"] = df_decision[\"Sentencia\"].apply(lambda x: process_paragraph(x))\n",
    "df_decision.head()"
   ]
  },
  {
   "cell_type": "code",
   "execution_count": 14,
   "metadata": {},
   "outputs": [],
   "source": [
    "tfidf_vectorizer = TfidfVectorizer(ngram_range=(1,3), use_idf=True, max_features=300)\n"
   ]
  },
  {
   "cell_type": "code",
   "execution_count": 15,
   "metadata": {},
   "outputs": [],
   "source": [
    "# Modeling #\n",
    "\n",
    "# Splitting train data and test data 0.4 #\n",
    "X_train, X_test, y_train, y_test = train_test_split(df_decision['Sentencia_cleaned'].astype(str), df_decision['label'], test_size=0.4, shuffle=True, random_state=42)\n",
    "\n",
    "tfidf_vectorizer = TfidfVectorizer(ngram_range=(1,3), use_idf=True, max_features=300)\n",
    "\n",
    "X_train_vectors_tfidf = tfidf_vectorizer.fit_transform(X_train)\n",
    "\n",
    "# Para prediccion #\n",
    "X_test_vectors_tfidf = tfidf_vectorizer.transform(X_test)"
   ]
  },
  {
   "cell_type": "code",
   "execution_count": 16,
   "metadata": {},
   "outputs": [
    {
     "name": "stdout",
     "output_type": "stream",
     "text": [
      "[LightGBM] [Warning] lambda_l2 is set=15, reg_lambda=10 will be ignored. Current value: lambda_l2=15\n",
      "Accuracy: 0.8391959798994975\n",
      "Training Accuracy: 0.8747203579418344\n"
     ]
    }
   ],
   "source": [
    "# Creating the model #\n",
    "model = lgb.LGBMClassifier(max_bin=3,\n",
    "                        max_depth=5,\n",
    "                        lambda_l2=15,\n",
    "                        num_leaves=6,\n",
    "                        min_child_samples=10,\n",
    "                        subsample=0.3,\n",
    "                        colsample_bytree=0.5,\n",
    "                        reg_alpha=1,\n",
    "                        reg_lambda=10)\n",
    "\n",
    "# Fitting the model to the tfidf vectors #\n",
    "model.fit(X_train_vectors_tfidf, y_train)\n",
    "\n",
    "# Estimating model accuracy #\n",
    "y_pred = model.predict(X_test_vectors_tfidf)\n",
    "print(\"Accuracy:\", metrics.accuracy_score(y_test, y_pred))\n",
    "\n",
    "y_pred_train = model.predict(X_train_vectors_tfidf)\n",
    "print(\"Training Accuracy:\", metrics.accuracy_score(y_train, y_pred_train))"
   ]
  },
  {
   "cell_type": "code",
   "execution_count": 17,
   "metadata": {},
   "outputs": [
    {
     "name": "stderr",
     "output_type": "stream",
     "text": [
      "/Users/dmurcia/Documents/personal/DS4A/Proyecto final/DS4A/Backend/venv/lib/python3.8/site-packages/sklearn/utils/deprecation.py:87: FutureWarning: Function plot_confusion_matrix is deprecated; Function `plot_confusion_matrix` is deprecated in 1.0 and will be removed in 1.2. Use one of the class methods: ConfusionMatrixDisplay.from_predictions or ConfusionMatrixDisplay.from_estimator.\n",
      "  warnings.warn(msg, category=FutureWarning)\n"
     ]
    },
    {
     "data": {
      "image/png": "[encoded data removed]",
      "text/plain": [
       "<Figure size 432x288 with 2 Axes>"
      ]
     },
     "metadata": {
      "needs_background": "light"
     },
     "output_type": "display_data"
    }
   ],
   "source": [
    "# Grafica de una matriz de confusion #\n",
    "metrics.plot_confusion_matrix(model, X_test_vectors_tfidf, y_test)\n",
    "plt.title('Confusion Matrix - Model output (Feature = sentido decision)')\n",
    "plt.show()"
   ]
  },
  {
   "cell_type": "code",
   "execution_count": 21,
   "metadata": {},
   "outputs": [],
   "source": [
    "import pickle\n",
    "path_model =\"/Users/dmurcia/Documents/personal/DS4A/Proyecto final/DS4A/Backend/outputs/models/\"\n",
    "path_transformer = \"/Users/dmurcia/Documents/personal/DS4A/Proyecto final/DS4A/Backend/outputs/transformers/\"\n",
    "filename_model = \"fitted_model_decision.pkl\"\n",
    "filename_transformer = \"transformer_model_decision.pkl\"\n",
    "pickle.dump(model,open(path_model+filename_model,'wb'))\n",
    "pickle.dump(tfidf_vectorizer,open(path_transformer+filename_transformer,'wb'))\n"
   ]
  },
  {
   "cell_type": "code",
   "execution_count": 18,
   "metadata": {},
   "outputs": [
    {
     "ename": "FileNotFoundError",
     "evalue": "[Errno 2] No such file or directory: 'resources/list_to_test.csv'",
     "output_type": "error",
     "traceback": [
      "\u001b[0;31m---------------------------------------------------------------------------\u001b[0m",
      "\u001b[0;31mFileNotFoundError\u001b[0m                         Traceback (most recent call last)",
      "\u001b[1;32m/Users/dmurcia/Documents/personal/DS4A/Proyecto final/DS4A/Backend/lab/Logistic_UTR_Test_train.ipynb Cell 9'\u001b[0m in \u001b[0;36m<cell line: 2>\u001b[0;34m()\u001b[0m\n\u001b[1;32m      <a href='vscode-notebook-cell:/Users/dmurcia/Documents/personal/DS4A/Proyecto%20final/DS4A/Backend/lab/Logistic_UTR_Test_train.ipynb#ch0000011?line=0'>1</a>\u001b[0m \u001b[39m# Testing another df similar to train set #\u001b[39;00m\n\u001b[0;32m----> <a href='vscode-notebook-cell:/Users/dmurcia/Documents/personal/DS4A/Proyecto%20final/DS4A/Backend/lab/Logistic_UTR_Test_train.ipynb#ch0000011?line=1'>2</a>\u001b[0m test_df \u001b[39m=\u001b[39m pd\u001b[39m.\u001b[39;49mread_csv(\u001b[39m\"\u001b[39;49m\u001b[39mresources/list_to_test.csv\u001b[39;49m\u001b[39m\"\u001b[39;49m)\n\u001b[1;32m      <a href='vscode-notebook-cell:/Users/dmurcia/Documents/personal/DS4A/Proyecto%20final/DS4A/Backend/lab/Logistic_UTR_Test_train.ipynb#ch0000011?line=2'>3</a>\u001b[0m \u001b[39m# Preprocessing of text column #\u001b[39;00m\n\u001b[1;32m      <a href='vscode-notebook-cell:/Users/dmurcia/Documents/personal/DS4A/Proyecto%20final/DS4A/Backend/lab/Logistic_UTR_Test_train.ipynb#ch0000011?line=3'>4</a>\u001b[0m test_input \u001b[39m=\u001b[39m test_df[\u001b[39m\"\u001b[39m\u001b[39mSentencia\u001b[39m\u001b[39m\"\u001b[39m]\u001b[39m.\u001b[39mapply(\u001b[39mlambda\u001b[39;00m x: process_paragraph(x))\n",
      "File \u001b[0;32m~/Documents/personal/DS4A/Proyecto final/DS4A/Backend/venv/lib/python3.8/site-packages/pandas/util/_decorators.py:311\u001b[0m, in \u001b[0;36mdeprecate_nonkeyword_arguments.<locals>.decorate.<locals>.wrapper\u001b[0;34m(*args, **kwargs)\u001b[0m\n\u001b[1;32m    305\u001b[0m \u001b[39mif\u001b[39;00m \u001b[39mlen\u001b[39m(args) \u001b[39m>\u001b[39m num_allow_args:\n\u001b[1;32m    306\u001b[0m     warnings\u001b[39m.\u001b[39mwarn(\n\u001b[1;32m    307\u001b[0m         msg\u001b[39m.\u001b[39mformat(arguments\u001b[39m=\u001b[39marguments),\n\u001b[1;32m    308\u001b[0m         \u001b[39mFutureWarning\u001b[39;00m,\n\u001b[1;32m    309\u001b[0m         stacklevel\u001b[39m=\u001b[39mstacklevel,\n\u001b[1;32m    310\u001b[0m     )\n\u001b[0;32m--> 311\u001b[0m \u001b[39mreturn\u001b[39;00m func(\u001b[39m*\u001b[39;49margs, \u001b[39m*\u001b[39;49m\u001b[39m*\u001b[39;49mkwargs)\n",
      "File \u001b[0;32m~/Documents/personal/DS4A/Proyecto final/DS4A/Backend/venv/lib/python3.8/site-packages/pandas/io/parsers/readers.py:680\u001b[0m, in \u001b[0;36mread_csv\u001b[0;34m(filepath_or_buffer, sep, delimiter, header, names, index_col, usecols, squeeze, prefix, mangle_dupe_cols, dtype, engine, converters, true_values, false_values, skipinitialspace, skiprows, skipfooter, nrows, na_values, keep_default_na, na_filter, verbose, skip_blank_lines, parse_dates, infer_datetime_format, keep_date_col, date_parser, dayfirst, cache_dates, iterator, chunksize, compression, thousands, decimal, lineterminator, quotechar, quoting, doublequote, escapechar, comment, encoding, encoding_errors, dialect, error_bad_lines, warn_bad_lines, on_bad_lines, delim_whitespace, low_memory, memory_map, float_precision, storage_options)\u001b[0m\n\u001b[1;32m    665\u001b[0m kwds_defaults \u001b[39m=\u001b[39m _refine_defaults_read(\n\u001b[1;32m    666\u001b[0m     dialect,\n\u001b[1;32m    667\u001b[0m     delimiter,\n\u001b[0;32m   (...)\u001b[0m\n\u001b[1;32m    676\u001b[0m     defaults\u001b[39m=\u001b[39m{\u001b[39m\"\u001b[39m\u001b[39mdelimiter\u001b[39m\u001b[39m\"\u001b[39m: \u001b[39m\"\u001b[39m\u001b[39m,\u001b[39m\u001b[39m\"\u001b[39m},\n\u001b[1;32m    677\u001b[0m )\n\u001b[1;32m    678\u001b[0m kwds\u001b[39m.\u001b[39mupdate(kwds_defaults)\n\u001b[0;32m--> 680\u001b[0m \u001b[39mreturn\u001b[39;00m _read(filepath_or_buffer, kwds)\n",
      "File \u001b[0;32m~/Documents/personal/DS4A/Proyecto final/DS4A/Backend/venv/lib/python3.8/site-packages/pandas/io/parsers/readers.py:575\u001b[0m, in \u001b[0;36m_read\u001b[0;34m(filepath_or_buffer, kwds)\u001b[0m\n\u001b[1;32m    572\u001b[0m _validate_names(kwds\u001b[39m.\u001b[39mget(\u001b[39m\"\u001b[39m\u001b[39mnames\u001b[39m\u001b[39m\"\u001b[39m, \u001b[39mNone\u001b[39;00m))\n\u001b[1;32m    574\u001b[0m \u001b[39m# Create the parser.\u001b[39;00m\n\u001b[0;32m--> 575\u001b[0m parser \u001b[39m=\u001b[39m TextFileReader(filepath_or_buffer, \u001b[39m*\u001b[39;49m\u001b[39m*\u001b[39;49mkwds)\n\u001b[1;32m    577\u001b[0m \u001b[39mif\u001b[39;00m chunksize \u001b[39mor\u001b[39;00m iterator:\n\u001b[1;32m    578\u001b[0m     \u001b[39mreturn\u001b[39;00m parser\n",
      "File \u001b[0;32m~/Documents/personal/DS4A/Proyecto final/DS4A/Backend/venv/lib/python3.8/site-packages/pandas/io/parsers/readers.py:934\u001b[0m, in \u001b[0;36mTextFileReader.__init__\u001b[0;34m(self, f, engine, **kwds)\u001b[0m\n\u001b[1;32m    931\u001b[0m     \u001b[39mself\u001b[39m\u001b[39m.\u001b[39moptions[\u001b[39m\"\u001b[39m\u001b[39mhas_index_names\u001b[39m\u001b[39m\"\u001b[39m] \u001b[39m=\u001b[39m kwds[\u001b[39m\"\u001b[39m\u001b[39mhas_index_names\u001b[39m\u001b[39m\"\u001b[39m]\n\u001b[1;32m    933\u001b[0m \u001b[39mself\u001b[39m\u001b[39m.\u001b[39mhandles: IOHandles \u001b[39m|\u001b[39m \u001b[39mNone\u001b[39;00m \u001b[39m=\u001b[39m \u001b[39mNone\u001b[39;00m\n\u001b[0;32m--> 934\u001b[0m \u001b[39mself\u001b[39m\u001b[39m.\u001b[39m_engine \u001b[39m=\u001b[39m \u001b[39mself\u001b[39;49m\u001b[39m.\u001b[39;49m_make_engine(f, \u001b[39mself\u001b[39;49m\u001b[39m.\u001b[39;49mengine)\n",
      "File \u001b[0;32m~/Documents/personal/DS4A/Proyecto final/DS4A/Backend/venv/lib/python3.8/site-packages/pandas/io/parsers/readers.py:1218\u001b[0m, in \u001b[0;36mTextFileReader._make_engine\u001b[0;34m(self, f, engine)\u001b[0m\n\u001b[1;32m   1214\u001b[0m     mode \u001b[39m=\u001b[39m \u001b[39m\"\u001b[39m\u001b[39mrb\u001b[39m\u001b[39m\"\u001b[39m\n\u001b[1;32m   1215\u001b[0m \u001b[39m# error: No overload variant of \"get_handle\" matches argument types\u001b[39;00m\n\u001b[1;32m   1216\u001b[0m \u001b[39m# \"Union[str, PathLike[str], ReadCsvBuffer[bytes], ReadCsvBuffer[str]]\"\u001b[39;00m\n\u001b[1;32m   1217\u001b[0m \u001b[39m# , \"str\", \"bool\", \"Any\", \"Any\", \"Any\", \"Any\", \"Any\"\u001b[39;00m\n\u001b[0;32m-> 1218\u001b[0m \u001b[39mself\u001b[39m\u001b[39m.\u001b[39mhandles \u001b[39m=\u001b[39m get_handle(  \u001b[39m# type: ignore[call-overload]\u001b[39;49;00m\n\u001b[1;32m   1219\u001b[0m     f,\n\u001b[1;32m   1220\u001b[0m     mode,\n\u001b[1;32m   1221\u001b[0m     encoding\u001b[39m=\u001b[39;49m\u001b[39mself\u001b[39;49m\u001b[39m.\u001b[39;49moptions\u001b[39m.\u001b[39;49mget(\u001b[39m\"\u001b[39;49m\u001b[39mencoding\u001b[39;49m\u001b[39m\"\u001b[39;49m, \u001b[39mNone\u001b[39;49;00m),\n\u001b[1;32m   1222\u001b[0m     compression\u001b[39m=\u001b[39;49m\u001b[39mself\u001b[39;49m\u001b[39m.\u001b[39;49moptions\u001b[39m.\u001b[39;49mget(\u001b[39m\"\u001b[39;49m\u001b[39mcompression\u001b[39;49m\u001b[39m\"\u001b[39;49m, \u001b[39mNone\u001b[39;49;00m),\n\u001b[1;32m   1223\u001b[0m     memory_map\u001b[39m=\u001b[39;49m\u001b[39mself\u001b[39;49m\u001b[39m.\u001b[39;49moptions\u001b[39m.\u001b[39;49mget(\u001b[39m\"\u001b[39;49m\u001b[39mmemory_map\u001b[39;49m\u001b[39m\"\u001b[39;49m, \u001b[39mFalse\u001b[39;49;00m),\n\u001b[1;32m   1224\u001b[0m     is_text\u001b[39m=\u001b[39;49mis_text,\n\u001b[1;32m   1225\u001b[0m     errors\u001b[39m=\u001b[39;49m\u001b[39mself\u001b[39;49m\u001b[39m.\u001b[39;49moptions\u001b[39m.\u001b[39;49mget(\u001b[39m\"\u001b[39;49m\u001b[39mencoding_errors\u001b[39;49m\u001b[39m\"\u001b[39;49m, \u001b[39m\"\u001b[39;49m\u001b[39mstrict\u001b[39;49m\u001b[39m\"\u001b[39;49m),\n\u001b[1;32m   1226\u001b[0m     storage_options\u001b[39m=\u001b[39;49m\u001b[39mself\u001b[39;49m\u001b[39m.\u001b[39;49moptions\u001b[39m.\u001b[39;49mget(\u001b[39m\"\u001b[39;49m\u001b[39mstorage_options\u001b[39;49m\u001b[39m\"\u001b[39;49m, \u001b[39mNone\u001b[39;49;00m),\n\u001b[1;32m   1227\u001b[0m )\n\u001b[1;32m   1228\u001b[0m \u001b[39massert\u001b[39;00m \u001b[39mself\u001b[39m\u001b[39m.\u001b[39mhandles \u001b[39mis\u001b[39;00m \u001b[39mnot\u001b[39;00m \u001b[39mNone\u001b[39;00m\n\u001b[1;32m   1229\u001b[0m f \u001b[39m=\u001b[39m \u001b[39mself\u001b[39m\u001b[39m.\u001b[39mhandles\u001b[39m.\u001b[39mhandle\n",
      "File \u001b[0;32m~/Documents/personal/DS4A/Proyecto final/DS4A/Backend/venv/lib/python3.8/site-packages/pandas/io/common.py:786\u001b[0m, in \u001b[0;36mget_handle\u001b[0;34m(path_or_buf, mode, encoding, compression, memory_map, is_text, errors, storage_options)\u001b[0m\n\u001b[1;32m    781\u001b[0m \u001b[39melif\u001b[39;00m \u001b[39misinstance\u001b[39m(handle, \u001b[39mstr\u001b[39m):\n\u001b[1;32m    782\u001b[0m     \u001b[39m# Check whether the filename is to be opened in binary mode.\u001b[39;00m\n\u001b[1;32m    783\u001b[0m     \u001b[39m# Binary mode does not support 'encoding' and 'newline'.\u001b[39;00m\n\u001b[1;32m    784\u001b[0m     \u001b[39mif\u001b[39;00m ioargs\u001b[39m.\u001b[39mencoding \u001b[39mand\u001b[39;00m \u001b[39m\"\u001b[39m\u001b[39mb\u001b[39m\u001b[39m\"\u001b[39m \u001b[39mnot\u001b[39;00m \u001b[39min\u001b[39;00m ioargs\u001b[39m.\u001b[39mmode:\n\u001b[1;32m    785\u001b[0m         \u001b[39m# Encoding\u001b[39;00m\n\u001b[0;32m--> 786\u001b[0m         handle \u001b[39m=\u001b[39m \u001b[39mopen\u001b[39;49m(\n\u001b[1;32m    787\u001b[0m             handle,\n\u001b[1;32m    788\u001b[0m             ioargs\u001b[39m.\u001b[39;49mmode,\n\u001b[1;32m    789\u001b[0m             encoding\u001b[39m=\u001b[39;49mioargs\u001b[39m.\u001b[39;49mencoding,\n\u001b[1;32m    790\u001b[0m             errors\u001b[39m=\u001b[39;49merrors,\n\u001b[1;32m    791\u001b[0m             newline\u001b[39m=\u001b[39;49m\u001b[39m\"\u001b[39;49m\u001b[39m\"\u001b[39;49m,\n\u001b[1;32m    792\u001b[0m         )\n\u001b[1;32m    793\u001b[0m     \u001b[39melse\u001b[39;00m:\n\u001b[1;32m    794\u001b[0m         \u001b[39m# Binary mode\u001b[39;00m\n\u001b[1;32m    795\u001b[0m         handle \u001b[39m=\u001b[39m \u001b[39mopen\u001b[39m(handle, ioargs\u001b[39m.\u001b[39mmode)\n",
      "\u001b[0;31mFileNotFoundError\u001b[0m: [Errno 2] No such file or directory: 'resources/list_to_test.csv'"
     ]
    }
   ],
   "source": [
    "# Testing another df similar to train set #\n",
    "test_df = pd.read_csv(\"resources/list_to_test.csv\")\n",
    "# Preprocessing of text column #\n",
    "test_input = test_df[\"Sentencia\"].apply(lambda x: process_paragraph(x))\n",
    "# Vecotrizing column text using tfidf #\n",
    "test_input = tfidf_vectorizer.fit_transform(test_input)\n",
    "\n",
    "# usar predict proba # .targe value_counts() 0 y 1 - Output is a ndarray, [p0, p1] with the probability of each label\n",
    "test_pred = model.predict_proba(test_input)\n",
    "print(test_pred)"
   ]
  },
  {
   "cell_type": "code",
   "execution_count": null,
   "metadata": {},
   "outputs": [
    {
     "name": "stdout",
     "output_type": "stream",
     "text": [
      "<class 'numpy.ndarray'> (511, 2)\n"
     ]
    }
   ],
   "source": [
    "print(type(test_pred), np.shape(test_pred))"
   ]
  },
  {
   "cell_type": "code",
   "execution_count": null,
   "metadata": {},
   "outputs": [],
   "source": [
    "# Function for reuturning info about model output#\n",
    "\"\"\"\n",
    "The function takes the vector or array of probabilities output of the model\n",
    "finds the index of top 5 probabilities of label1 ocurring and prints its \n",
    "probability alongside the text of said index.\n",
    "Input: (vector, text)\n",
    "Output: (proba) a ndarray of (5,2) containing the top 5 probabilities and [the probaility , text with said probability]\n",
    "\n",
    "\"\"\"\n",
    "def find_top5(vector):\n",
    "    ind = np.argpartition(vector[:,1], -4)[-4:]\n",
    "    proba = vector[:,1][ind]\n",
    "    return  proba\n",
    "\n",
    "def print_values(proba):\n",
    "    for i in proba:\n",
    "        print('Probability =',proba[i])"
   ]
  },
  {
   "cell_type": "code",
   "execution_count": null,
   "metadata": {},
   "outputs": [
    {
     "name": "stdout",
     "output_type": "stream",
     "text": [
      "Index for top 5: [247 243 266 254 261 265]\n",
      "Probability for top 5: [0.48028561 0.62052826 0.54807249 0.57581812 0.58860914 0.61026377]\n"
     ]
    }
   ],
   "source": [
    "# Retrieving the top 5 higher probabilities #\n",
    "\n",
    "#Retrieving the index in the vector 2nd column (positive value)\n",
    "ind = np.argpartition(test_pred[:,1], -6)[-6:]\n",
    "print('Index for top 5:',ind)\n",
    "\n",
    "# Retrieving the value of the index found earlier #\n",
    "probability = test_pred[:,1][ind]\n",
    "print('Probability for top 5:', probability)"
   ]
  },
  {
   "cell_type": "code",
   "execution_count": null,
   "metadata": {},
   "outputs": [],
   "source": [
    "## TODO ##\n",
    "# Queda por implementar una matriz de confusion para validar el rendimiento # Check\n",
    "# Mirar como usar el modelo de forma facil para implementarlo en backend # Pending con la funcion find_top5 y print_values\n",
    "\n",
    "# Si se retorna un 0 en el array de vectores se confirma que se puede extraer el feature.#\n",
    "#Configurar el retorno de la funcion #\n",
    "\n",
    "# Funcionamiento del modelo #\n",
    "# Parrafo -> predict clase -> predict proba para sacar vector de proba -> mostrar el top 5 de los parrafos.\n",
    "\n",
    "# Mas tuning del modelo #\n",
    "# iperparameter tuning #\n",
    "\n",
    "# (1) xgboost xgboost is_unbalanced = True. (1) #\n",
    "# (2) igbm desbalanceado y tecnicas de balance (2) tecnica smout, f1, precision (2) #\n",
    "\n",
    "# Entrada ideal al modelo (dataframe) #\n",
    "# indice | Texto sin preprocesar en la vecindad de la palabra | Texo preprocesado | "
   ]
  }
 ],
 "metadata": {
  "kernelspec": {
   "display_name": "Python 3.9.12 ('venv': venv)",
   "language": "python",
   "name": "python3"
  },
  "language_info": {
   "codemirror_mode": {
    "name": "ipython",
    "version": 3
   },
   "file_extension": ".py",
   "mimetype": "text/x-python",
   "name": "python",
   "nbconvert_exporter": "python",
   "pygments_lexer": "ipython3",
   "version": "3.8.9"
  },
  "orig_nbformat": 4,
  "vscode": {
   "interpreter": {
    "hash": "d9d34d276d68a57bcbba6557b80993f88b067ac3d938ae0a2a8f206db06eb07e"
   }
  }
 },
 "nbformat": 4,
 "nbformat_minor": 2
}
