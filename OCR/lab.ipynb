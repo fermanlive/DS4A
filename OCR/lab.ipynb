{
 "cells": [
  {
   "cell_type": "code",
   "execution_count": 2,
   "metadata": {},
   "outputs": [],
   "source": [
    "output_txt = [\"050453121001-201500222-00 Chigorodo 8 octubre 2018\",\n",
    "\"050453121001-201601445-00 Chigorodó 23 Marzo 2018\",\n",
    "\"050453121001-201601609-01 Chigorodo 12 octubre 2018\",\n",
    "\"050453121001-201601697-01 Chigorodó 27 noviembre 2018\",\n",
    "\"050453121001-201601732-00 Chigorodó 19 Diciembre 2017\",\n",
    "\"050453121002-201400055-01 Chigorodó 22 noviembre 2018\",\n",
    "\"050453121002-201601703-00 Chigorodó  22 enero 2018\",\n",
    "\"190013121001-201400122-00 Santander de Quilichao 08 Octubre 2015\",\n",
    "\"190013121001-201400148-01 Timbío 11 noviembre 2015.PDF\",\n",
    "\"190013121001-201500002-01  Timbió  15 Diciembre 2016.PDF\",\n",
    "\"190013121001-201500032-00  Santander de Quilichao  27 Enero 2016\",\n",
    "\"190013121001-201600005-00  Toribio  31 Octubre 2017\",\n",
    "\"190013121001-201600083-00 TIMBÍO 27 de Junio de 2018.PDF\",\n",
    "\"190013121001-201600105-00  Toribío  18 Septiembre 2017\",\n",
    "\"190013121001-201600164-00 Toribío 18 Junio 2018\",\n",
    "\"190013121001-201700128-00 Santander de Quilichao 31 julio 2018\",\n",
    "\"2013-00202  Tablón de Gómez  31 Marzo 2016\",\n",
    "\"2014-00025  Tablón de Gómez  18 Diciembre 2015\",\n",
    "\"2016-00074 Remolino 15 Enero 2018\",\n",
    "\"270013121001-201400099-00 Unguía 28 Junio 2018.PDF\",\n",
    "\"270013121001-201400106-00  Unguía  05 Abril 2016\",\n",
    "\"270013121001-201500053-00  Unguía  18 Abril 2018\",\n",
    "\"470013121001-201400058-00 Remolino 18 septiembre 2015\",\n",
    "\"470013121001-201400089-00 Remolino 04 diciembre 2015\",\n",
    "\"470013121002-201300001-00 Ciénaga 11 Octubre 2013\",\n",
    "\"470013121002-201300034-00  Ciénaga  06 Marzo 2014\",\n",
    "\"470013121002-201300048-00 Ciénaga 10 Marzo 2014\",\n",
    "\"470013121002-201300074-00 Ciénaga 11 junio 2015\",\n",
    "\"470013121002-201300092-00 Ciénaga 28 enero 2015\",\n",
    "\"470013121002-201300098-00 Ciénaga 02 febrero 2015\",\n",
    "\"470013121002-201400025-00  Remolino  14 Diciembre 2016\",\n",
    "\"470013121002-201400072-00 Remolino 20 marzo 2018.PDF\",\n",
    "\"470013121002-201500002-00  Ciénaga  15 Marzo 2016\",\n",
    "\"520013121002-201600046-01 Tablón de Gómez 07 arzpo 2018\",\n",
    "\"528353121001-201300112-00 Tablón de Gómez 12 Diciembre 2017\",\n",
    "\"540012221002-2013-00086-00-Tibu-25-de-Febrero-2014.PDF\",\n",
    "\"540013121001-201300051-01 Tibú 21 Junio 2018\",\n",
    "\"540013121001-201300110-01 Tibú 12 Diciembre 2018\",\n",
    "\"540013121002-201300097-00  Tibú  16 febrero 2018\",\n",
    "\"540013121002-201300204-00 Cúcuta 24 Marzo 2015\",\n",
    "\"540013121002-201300225-01 Tibú 19 Abril 2017\",\n",
    "\"540013121002-201400001-00 Tibú 18 Marzo 2019\",\n",
    "\"540013121002-201500006-00 Cúcuta 22 Marzo 2019\",\n",
    "\"540013121002-201500094-01  Cúcuta  13 Octubre 2017.PDF\",\n",
    "\"540013121002-201500389-01 Cúcuta 20 Marzo 2018\"]"
   ]
  },
  {
   "cell_type": "code",
   "execution_count": 3,
   "metadata": {},
   "outputs": [],
   "source": [
    "output = [\"050453121001-201500222-00 Chigorodo 8 octubre 2018\",\n",
    "\"050453121001-201601445-00 Chigorodó 23 Marzo 2018\",\n",
    "\"050453121001-201601609-01 Chigorodo 12 octubre 2018\",\n",
    "\"050453121001-201601697-01 Chigorodó 27 noviembre 2018\",\n",
    "\"050453121001-201601732-00 Chigorodó 19 Diciembre 2017\",\n",
    "\"050453121002-201400055-01 Chigorodó 22 noviembre 2018\",\n",
    "\"050453121002-201601703-00 Chigorodó  22 enero 2018\",\n",
    "\"190013121001-201400122-00 Santander de Quilichao 08 Octubre 2015\",\n",
    "\"190013121001-201400148-01 Timbío 11 noviembre 2015.PDF\",\n",
    "\"190013121001-201500002-01  Timbió  15 Diciembre 2016.PDF\",\n",
    "\"190013121001-201500032-00  Santander de Quilichao  27 Enero 2016\",\n",
    "\"190013121001-201500164-00  Santander de Quilichao  01 Diciembre 2017\",\n",
    "\"190013121001-201600005-00  Toribio  31 Octubre 2017\",\n",
    "\"190013121001-201600083-00 TIMBÍO 27 de Junio de 2018.PDF\",\n",
    "\"190013121001-201600105-00  Toribío  18 Septiembre 2017\",\n",
    "\"190013121001-201600164-00 Toribío 18 Junio 2018\",\n",
    "\"190013121001-201700128-00 Santander de Quilichao 31 julio 2018\",\n",
    "\"2013-00202  Tablón de Gómez  31 Marzo 2016\",\n",
    "\"2014-00025  Tablón de Gómez  18 Diciembre 2015\",\n",
    "\"2016-00074 Remolino 15 Enero 2018\",\n",
    "\"270013121001-201400099-00 Unguía 28 Junio 2018.PDF\",\n",
    "\"270013121001-201400106-00  Unguía  05 Abril 2016\",\n",
    "\"270013121001-201500053-00  Unguía  18 Abril 2018\",\n",
    "\"470013121001-201400058-00 Remolino 18 septiembre 2015\",\n",
    "\"470013121001-201400089-00 Remolino 04 diciembre 2015\",\n",
    "\"470013121001-201500013-00  Ciénaga  16 Diciembre 2016\",\n",
    "\"470013121002-201300001-00 Ciénaga 11 Octubre 2013\",\n",
    "\"470013121002-201300034-00  Ciénaga  06 Marzo 2014\",\n",
    "\"470013121002-201300048-00 Ciénaga 10 Marzo 2014\",\n",
    "\"470013121002-201300074-00 Ciénaga 11 junio 2015\",\n",
    "\"470013121002-201300080-00 Ciénaga 06 Junio 2014\",\n",
    "\"470013121002-201300092-00 Ciénaga 28 enero 2015\",\n",
    "\"470013121002-201300097-00 Ciénaga 21 agosto 2015\",\n",
    "\"470013121002-201300098-00 Ciénaga 02 febrero 2015\",\n",
    "\"470013121002-201400025-00  Remolino  14 Diciembre 2016\",\n",
    "\"470013121002-201400072-00 Remolino 20 marzo 2018.PDF\",\n",
    "\"470013121002-201500002-00  Ciénaga  15 Marzo 2016\",\n",
    "\"520013121002-201600046-01 Tablón de Gómez 07 arzpo 2018\",\n",
    "\"520013121003-201600128-00 Tablón de Gómez 22 Marzo 2019\",\n",
    "\"528353121001-201300112-00 Tablón de Gómez 12 Diciembre 2017\",\n",
    "\"540012221002-2013-00086-00-Tibu-25-de-Febrero-2014.PDF\",\n",
    "\"540013121001-201300051-01 Tibú 21 Junio 2018\",\n",
    "\"540013121001-201300110-01 Tibú 12 Diciembre 2018\",\n",
    "\"540013121002-201300097-00  Tibú  16 febrero 2018\",\n",
    "\"540013121002-201300204-00 Cúcuta 24 Marzo 2015\",\n",
    "\"540013121002-201300225-01 Tibú 19 Abril 2017\",\n",
    "\"540013121002-201400001-00 Tibú 18 Marzo 2019\",\n",
    "\"540013121002-201500006-00 Cúcuta 22 Marzo 2019\",\n",
    "\"540013121002-201500094-01  Cúcuta  13 Octubre 2017.PDF\",\n",
    "\"540013121002-201500389-01 Cúcuta 20 Marzo 2018\"]"
   ]
  },
  {
   "cell_type": "code",
   "execution_count": 5,
   "metadata": {},
   "outputs": [
    {
     "name": "stdout",
     "output_type": "stream",
     "text": [
      "190013121001-201500164-00  Santander de Quilichao  01 Diciembre 2017\n",
      "470013121001-201500013-00  Ciénaga  16 Diciembre 2016\n",
      "470013121002-201300080-00 Ciénaga 06 Junio 2014\n",
      "470013121002-201300097-00 Ciénaga 21 agosto 2015\n",
      "520013121003-201600128-00 Tablón de Gómez 22 Marzo 2019\n"
     ]
    }
   ],
   "source": [
    "for directory in output:\n",
    "    flag = False\n",
    "    for txt in output_txt:\n",
    "        if txt == directory :\n",
    "            flag = True\n",
    "    if flag is False:\n",
    "        print(directory)\n",
    "        \n"
   ]
  }
 ],
 "metadata": {
  "interpreter": {
   "hash": "3f40f469aa3de473da9bb584eb34689ebbcefb38e9f3c5fbd220228e8b757913"
  },
  "kernelspec": {
   "display_name": "Python 3.8.9 ('venv': venv)",
   "language": "python",
   "name": "python3"
  },
  "language_info": {
   "codemirror_mode": {
    "name": "ipython",
    "version": 3
   },
   "file_extension": ".py",
   "mimetype": "text/x-python",
   "name": "python",
   "nbconvert_exporter": "python",
   "pygments_lexer": "ipython3",
   "version": "3.8.9"
  },
  "orig_nbformat": 4
 },
 "nbformat": 4,
 "nbformat_minor": 2
}
