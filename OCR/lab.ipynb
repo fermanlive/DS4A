{
 "cells": [
  {
   "cell_type": "code",
   "execution_count": 4,
   "metadata": {},
   "outputs": [
    {
     "name": "stderr",
     "output_type": "stream",
     "text": [
      "CUDA not available - defaulting to CPU. Note: This module is much faster with a GPU.\n"
     ]
    },
    {
     "name": "stdout",
     "output_type": "stream",
     "text": [
      "--- 21.61826491355896 seconds ---\n",
      "<class 'list'>\n"
     ]
    }
   ],
   "source": [
    "import easyocr\n",
    "import time\n",
    "start_time = time.time()\n",
    "reader = easyocr.Reader(['es'], gpu=True) # this needs to run only once to load the model into memory\n",
    "result = reader.readtext('/Users/dmurcia/Downloads/page0.jpg')\n",
    "print(\"--- %s seconds ---\" % (time.time() - start_time))\n",
    "print(type(result))\n"
   ]
  },
  {
   "cell_type": "code",
   "execution_count": 16,
   "metadata": {},
   "outputs": [
    {
     "name": "stdout",
     "output_type": "stream",
     "text": [
      "Traduzca instantáneamente y mantenga\n",
      "el formato de cualquier documento\n",
      "a\n",
      "cualquier idioma.\n",
      "wwwonlinedoctranslator.com\n"
     ]
    }
   ],
   "source": [
    "for resulting in result:\n",
    "    print(resulting[1])"
   ]
  },
  {
   "cell_type": "code",
   "execution_count": 10,
   "metadata": {},
   "outputs": [
    {
     "data": {
      "text/plain": [
       "([[320, 173], [1294, 173], [1294, 205], [320, 205]],\n",
       " 'JUZGADO SEGUNDO DE DESCONGESTION CIVIL DEL CIRCUITO',\n",
       " 0.6336887778374604)"
      ]
     },
     "execution_count": 10,
     "metadata": {},
     "output_type": "execute_result"
    }
   ],
   "source": [
    "result[0]"
   ]
  },
  {
   "cell_type": "code",
   "execution_count": 1,
   "metadata": {},
   "outputs": [],
   "source": [
    "x = 'output_images/050453121001-201500222-00 Chigorodo 8 octubre 2018.jpg'"
   ]
  },
  {
   "cell_type": "code",
   "execution_count": 3,
   "metadata": {},
   "outputs": [
    {
     "data": {
      "text/plain": [
       "'jpg'"
      ]
     },
     "execution_count": 3,
     "metadata": {},
     "output_type": "execute_result"
    }
   ],
   "source": [
    "x[-3:]"
   ]
  },
  {
   "cell_type": "code",
   "execution_count": 27,
   "metadata": {},
   "outputs": [
    {
     "name": "stdout",
     "output_type": "stream",
     "text": [
      "{\"pag1\": \"Traduzca instant\\u00e1neamente y mantenga\", \"page0\": \"Traduzca instant\\u00e1neamente y mantenga\", \"page2\": \"Traduzca instant\\u00e1neamente y mantenga\"}\n"
     ]
    }
   ],
   "source": [
    "import codecs\n",
    "f = codecs.open('output_txt/example.txt', 'r', 'UTF-8')\n",
    "for line in f:\n",
    "    print(line)"
   ]
  },
  {
   "cell_type": "code",
   "execution_count": 47,
   "metadata": {},
   "outputs": [],
   "source": [
    "import io\n",
    "import json\n",
    "f = io.open('output_txt/example.txt', mode=\"r\", encoding=\"utf-8\")"
   ]
  },
  {
   "cell_type": "code",
   "execution_count": 48,
   "metadata": {},
   "outputs": [
    {
     "data": {
      "text/plain": [
       "{'pag1': 'Traduzca instantáneamente y mantenga',\n",
       " 'page0': 'Traduzca instantáneamente y mantenga',\n",
       " 'page2': 'Traduzca instantáneamente y mantenga'}"
      ]
     },
     "execution_count": 48,
     "metadata": {},
     "output_type": "execute_result"
    }
   ],
   "source": [
    "t = json.loads(f.read())\n",
    "t"
   ]
  },
  {
   "cell_type": "code",
   "execution_count": 49,
   "metadata": {},
   "outputs": [
    {
     "data": {
      "text/plain": [
       "str"
      ]
     },
     "execution_count": 49,
     "metadata": {},
     "output_type": "execute_result"
    }
   ],
   "source": [
    "type(t['pag1'])"
   ]
  }
 ],
 "metadata": {
  "interpreter": {
   "hash": "3f40f469aa3de473da9bb584eb34689ebbcefb38e9f3c5fbd220228e8b757913"
  },
  "kernelspec": {
   "display_name": "Python 3.8.9 ('venv': venv)",
   "language": "python",
   "name": "python3"
  },
  "language_info": {
   "codemirror_mode": {
    "name": "ipython",
    "version": 3
   },
   "file_extension": ".py",
   "mimetype": "text/x-python",
   "name": "python",
   "nbconvert_exporter": "python",
   "pygments_lexer": "ipython3",
   "version": "3.8.9"
  },
  "orig_nbformat": 4
 },
 "nbformat": 4,
 "nbformat_minor": 2
}
